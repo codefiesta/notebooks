{
 "cells": [
  {
   "cell_type": "code",
   "execution_count": null,
   "id": "9853c26f-0662-46ca-b037-683ccbd8c032",
   "metadata": {
    "editable": true,
    "slideshow": {
     "slide_type": ""
    },
    "tags": []
   },
   "outputs": [],
   "source": [
    "#################################################################\n",
    "#\n",
    "# BERT References:\n",
    "# - https://huggingface.co/transformers/v3.0.2/model_doc/bert.html\n",
    "#\n",
    "# HuggingFace References:\n",
    "# - https://huggingface.co/docs/datasets/index\n",
    "#\n",
    "# Torch References:\n",
    "# - https://pytorch.org/tutorials/beginner/data_loading_tutorial.html\n",
    "#\n",
    "# CoreML References:\n",
    "# - https://apple.github.io/coremltools/docs-guides/source/convert-pytorch.html\n",
    "# - https://apple.github.io/coremltools/docs-guides/source/convert-tensorflow-2-bert-transformer-models.html\n",
    "#\n",
    "# Fine Tuning References:\n",
    "# - https://www.youtube.com/watch?v=9he4XKqqzvE\n",
    "#\n",
    "#################################################################\n",
    "\n",
    "# Set up environment\n",
    "!pip3 install torch transformers datasets coremltools\n",
    "\n",
    "import ssl\n",
    "import numpy as np\n",
    "import coremltools as ct\n",
    "from sklearn.model_selection import train_test_split\n",
    "from sklearn.metrics import accuracy_score, recall_score, f1_score\n",
    "#import tensorflow as tf\n",
    "import torch\n",
    "from transformers import pipeline\n",
    "from transformers import TrainingArguments, Trainer\n",
    "from transformers import BertTokenizer, BertForSequenceClassification\n",
    "from datasets import load_dataset\n",
    "\n",
    "# Custom torch Dataset\n",
    "class BimActionDataset(torch.utils.data.Dataset):\n",
    "    def __init__(self, root_dir, transform=None):\n",
    "        self.root_dir = root_dir\n",
    "        self.transform = transform\n",
    "        self.image_paths = [f for f in os.listdir(root_dir) if os.path.isfile(os.path.join(root_dir, f))]\n",
    "\n",
    "    def __len__(self):\n",
    "        return len(self.image_paths)\n",
    "\n",
    "    def __getitem__(self, idx):\n",
    "        img_path = os.path.join(self.root_dir, self.image_paths[idx])\n",
    "        image = Image.open(img_path).convert('RGB')\n",
    "        if self.transform:\n",
    "            image = self.transform(image)\n",
    "        label = os.path.splitext(self.image_paths[idx])[0] # Example: Extract label from filename\n",
    "        return image, label\n",
    "\n",
    "# Variables\n",
    "pretrainedBertModel = \"bert-base-uncased\"\n",
    "datasetURL = \"https://docs.google.com/spreadsheets/d/e/2PACX-1vQ_XMRB54LsA_-PRMxxdBjvZkbCQprBco6SN-F9gkJxdZuNasUFRm9WmmfzNX5VbhBTSz0UJuvPspsc/pub?gid=0&single=true&output=csv\"\n",
    "\n",
    "# Load the dataset to train on\n",
    "dataset = load_dataset(\"csv\", data_files=datasetURL)\n",
    "\n",
    "# Load the model\n",
    "tokenizer = BertTokenizer.from_pretrained(pretrainedBertModel)\n",
    "#model = BertForSequenceClassification.from_pretrained(modelName)\n",
    "\n",
    "# Unmasking pipeline\n",
    "#unmasker = pipeline('fill-mask', model=pretrainedBertModel)\n",
    "#unmasker(\"Artificial Intelligence [MASK] take over the world.\")\n",
    "#unmasker(\"My wife is so obsessed with cleanliness, that [MASK] will throw me out of the house one day.\")\n",
    "#unmasker(\"My name is Kevin and I live in Del Mar, [MASK].\")"
   ]
  },
  {
   "cell_type": "code",
   "execution_count": null,
   "id": "d1c9b050-853f-44e5-9a17-13eefa813e56",
   "metadata": {},
   "outputs": [],
   "source": [
    "training_data = dataset[\"train\"] \n",
    "inputs = list(training_data[\"input\"])\n",
    "scopes = list(training_data[\"scope\"])\n",
    "actions = list(training_data[\"action\"])"
   ]
  },
  {
   "cell_type": "code",
   "execution_count": null,
   "id": "30d5ea68-f9e8-42b2-b472-b94d032daa1f",
   "metadata": {},
   "outputs": [],
   "source": [
    "#tokenizer(inputs, padding=True, truncation=True, max_length=512)"
   ]
  },
  {
   "cell_type": "code",
   "execution_count": null,
   "id": "4977c31d-1273-4920-8398-86f3e0732ddd",
   "metadata": {},
   "outputs": [],
   "source": [
    "for index, value in enumerate(inputs):\n",
    "    print(index, value)"
   ]
  },
  {
   "cell_type": "code",
   "execution_count": null,
   "id": "089f0e02-78ee-4b79-add4-f55da3105731",
   "metadata": {},
   "outputs": [],
   "source": [
    "train_test_split"
   ]
  }
 ],
 "metadata": {
  "kernelspec": {
   "display_name": "Python 3 (ipykernel)",
   "language": "python",
   "name": "python3"
  },
  "language_info": {
   "codemirror_mode": {
    "name": "ipython",
    "version": 3
   },
   "file_extension": ".py",
   "mimetype": "text/x-python",
   "name": "python",
   "nbconvert_exporter": "python",
   "pygments_lexer": "ipython3",
   "version": "3.9.6"
  }
 },
 "nbformat": 4,
 "nbformat_minor": 5
}
