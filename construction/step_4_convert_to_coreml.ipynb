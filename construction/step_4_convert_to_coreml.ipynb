{
 "cells": [
  {
   "cell_type": "markdown",
   "id": "bc34d188-f177-4f14-905c-b516ef8f08fe",
   "metadata": {},
   "source": [
    "# Convert Spacy Model to CoreML\n",
    "Google Search \"Spacy export model to coreml python\"\n",
    "\n",
    "## References\n",
    "- [CoreML Tools](https://apple.github.io/coremltools/docs-guides/)\n",
    "- [CoreML Tools API](https://apple.github.io/coremltools/index.html)\n",
    "- [Converting Models to Core ML](https://huggingface.co/blog/fguzman82/frompytorch-to-coreml)\n",
    "- [PyTorch to CoreML Conversion](https://coremltools.readme.io/v6.3/docs/pytorch-conversion)"
   ]
  },
  {
   "cell_type": "markdown",
   "id": "90209577-42eb-401d-880c-b131b1745eb9",
   "metadata": {},
   "source": [
    "### Imports"
   ]
  },
  {
   "cell_type": "code",
   "execution_count": 69,
   "id": "ad420e2d-048d-414b-9b27-92f85296a958",
   "metadata": {},
   "outputs": [],
   "source": [
    "import spacy\n",
    "from spacy import displacy\n",
    "import torch\n",
    "import torch.nn as nn"
   ]
  },
  {
   "cell_type": "markdown",
   "id": "7bb0adf6-73fb-4709-ae31-468a58ddc9ec",
   "metadata": {},
   "source": [
    "### Load the spaCy Model"
   ]
  },
  {
   "cell_type": "code",
   "execution_count": 82,
   "id": "349552df-4e77-48cb-a9e1-ece151478520",
   "metadata": {},
   "outputs": [
    {
     "data": {
      "text/html": [
       "<span class=\"tex2jax_ignore\"><div class=\"entities\" style=\"line-height: 2.5; direction: ltr\">Hide all walls</div></span>"
      ],
      "text/plain": [
       "<IPython.core.display.HTML object>"
      ]
     },
     "metadata": {},
     "output_type": "display_data"
    },
    {
     "name": "stdout",
     "output_type": "stream",
     "text": [
      "{}\n",
      "None\n"
     ]
    }
   ],
   "source": [
    "# nlp = spacy.load('./training/ner_and_textcat')\n",
    "nlp = spacy.load(\"en_core_web_lg\")\n",
    "doc = nlp(\"Hide all walls\")\n",
    "displacy.render(doc, style=\"ent\", jupyter=True)\n",
    "print(doc.cats)\n",
    "print(doc._.trf_data)"
   ]
  },
  {
   "cell_type": "markdown",
   "id": "b084257f-e194-4e12-80f8-95cd6c4ebda1",
   "metadata": {},
   "source": [
    "### Wrap the spaCy model in a PyTorch Model"
   ]
  },
  {
   "cell_type": "code",
   "execution_count": 87,
   "id": "5c02e8e7-8852-4b4e-ad02-6cf01806639b",
   "metadata": {},
   "outputs": [
    {
     "name": "stdout",
     "output_type": "stream",
     "text": [
      "766 300\n",
      "tensor([[-1.9705, -0.5765,  0.0749,  ...,  0.9095, -0.2952, -0.6983],\n",
      "        [-1.7670, -0.2134, -0.4022,  ..., -0.3434,  0.3903,  0.0737],\n",
      "        [-1.7242, -0.3706,  0.9299,  ..., -0.3086,  0.0218, -1.2368],\n",
      "        ...,\n",
      "        [ 2.3345, -1.5065, -0.2194,  ...,  0.5823, -0.6457,  0.3587],\n",
      "        [ 2.4056,  0.0566,  0.4939,  ..., -1.0263, -1.5310,  0.9550],\n",
      "        [ 2.8327, -0.4540,  0.7826,  ..., -0.5384, -0.0881, -0.1755]]) 342918 300\n"
     ]
    },
    {
     "data": {
      "text/plain": [
       "PyTorchWrapper(\n",
       "  (embedding): Embedding(342918, 300)\n",
       ")"
      ]
     },
     "execution_count": 87,
     "metadata": {},
     "output_type": "execute_result"
    }
   ],
   "source": [
    "# Extract word vectors\n",
    "word_vectors = torch.FloatTensor(nlp.vocab.vectors.data)\n",
    "vocab_size = len(nlp.vocab) # Size of the dictionary of embeddings\n",
    "embedding_dim = 50265 # the size of each embedding vector\n",
    "\n",
    "dim = nlp.vocab.vectors_length\n",
    "print(vocab_size, dim)\n",
    "\n",
    "# Define a PyTorch model\n",
    "class PyTorchWrapper(nn.Module):\n",
    "    def __init__(self, vocab_size, embedding_dim, pretrained_embeddings):\n",
    "        super(PyTorchWrapper, self).__init__()\n",
    "        self.embedding = nn.Embedding(vocab_size, embedding_dim).from_pretrained(pretrained_embeddings)\n",
    "        # Add other layers as needed, e.g., LSTM, Linear, etc.\n",
    "        \n",
    "    def forward(self, x):\n",
    "        embedded = self.embedding(x)\n",
    "        # Pass through other layers\n",
    "        return embedded\n",
    "    \n",
    "# Instantiate the model\n",
    "vocab_size, embedding_dim = word_vectors.shape\n",
    "torch_model = PyTorchWrapper(vocab_size, embedding_dim, word_vectors)\n",
    "print(word_vectors, vocab_size, embedding_dim)\n",
    "# Set the model in evaluation mode.\n",
    "torch_model.eval()\n",
    "torch_model"
   ]
  },
  {
   "cell_type": "code",
   "execution_count": 86,
   "id": "affe3d86-12c7-4fd3-a907-f7e9a8daaa92",
   "metadata": {},
   "outputs": [
    {
     "data": {
      "text/plain": [
       "PyTorchWrapper(\n",
       "  original_name=PyTorchWrapper\n",
       "  (embedding): Embedding(original_name=Embedding)\n",
       ")"
      ]
     },
     "execution_count": 86,
     "metadata": {},
     "output_type": "execute_result"
    }
   ],
   "source": [
    "# Trace the model\n",
    "import torchvision\n",
    "\n",
    "vocab_size = len(nlp.vocab) # Size of the dictionary of embeddings\n",
    "dummy_input = torch.randint(0, vocab_size, (1, 128))\n",
    "traced_model = torch.jit.trace(torch_model, dummy_input)\n",
    "traced_model"
   ]
  },
  {
   "cell_type": "markdown",
   "id": "c8972379-70dd-44e8-baf4-7e7132edd5eb",
   "metadata": {},
   "source": [
    "### Script the Model"
   ]
  },
  {
   "cell_type": "code",
   "execution_count": null,
   "id": "09b44f88-4114-400f-86d6-7a8cfae79c02",
   "metadata": {},
   "outputs": [],
   "source": [
    "from coreml import (\n",
    "    script_model,\n",
    "    convert_to_coreml\n",
    ")\n",
    "scripted = script_model(torch_model)\n",
    "scripted"
   ]
  },
  {
   "cell_type": "markdown",
   "id": "11eaaeff-7bb4-4ef3-a693-cbd6a3a76751",
   "metadata": {},
   "source": [
    "### Convert the scripted model to CoreML"
   ]
  },
  {
   "cell_type": "code",
   "execution_count": null,
   "id": "8ef8376b-5cd7-4b64-ab74-91114f1330b1",
   "metadata": {},
   "outputs": [],
   "source": [
    "coreml_model = convert_to_coreml(scripted, (1, 1))\n",
    "coreml_model"
   ]
  },
  {
   "cell_type": "markdown",
   "id": "4209a002-88a8-4271-8612-c142d7ed9f3a",
   "metadata": {},
   "source": [
    "### Save the model"
   ]
  },
  {
   "cell_type": "code",
   "execution_count": null,
   "id": "90911456-f136-4cc9-9480-ee6fcc51bb70",
   "metadata": {},
   "outputs": [],
   "source": [
    "coreml_model.save(\"construction.mlpackage\")"
   ]
  },
  {
   "cell_type": "code",
   "execution_count": 45,
   "id": "8e2569c1-5ae9-4aff-930b-2b2a7c3d9d4f",
   "metadata": {},
   "outputs": [
    {
     "name": "stdout",
     "output_type": "stream",
     "text": [
      "('transformer', <spacy_curated_transformers.pipeline.transformer.CuratedTransformer object at 0x15768de20>)\n",
      "('tagger', <spacy.pipeline.tagger.Tagger object at 0x15784d760>)\n",
      "('parser', <spacy.pipeline.dep_parser.DependencyParser object at 0x157691cf0>)\n",
      "('attribute_ruler', <spacy.pipeline.attributeruler.AttributeRuler object at 0x1579ac180>)\n",
      "('lemmatizer', <spacy.lang.en.lemmatizer.EnglishLemmatizer object at 0x1578495c0>)\n",
      "('ner', <spacy.pipeline.ner.EntityRecognizer object at 0x157691f20>)\n",
      "('entity_ruler', <spacy.pipeline.entityruler.EntityRuler object at 0x157849740>)\n",
      "('textcat', <spacy.pipeline.textcat.TextCategorizer object at 0x15784da00>)\n"
     ]
    }
   ],
   "source": [
    "nlp.vocab\n",
    "components = nlp.components\n",
    "for component in components:\n",
    "    print(component)"
   ]
  },
  {
   "cell_type": "code",
   "execution_count": 49,
   "id": "7779aea4-e885-4fd6-abc7-629836a6cb45",
   "metadata": {},
   "outputs": [
    {
     "data": {
      "text/plain": [
       "tensor([[397, 123, 566, 221, 648,  49, 100,  17, 350, 455, 569, 130, 411, 101,\n",
       "          97, 506, 325, 631, 267, 519, 110, 190,  13, 178, 513, 615, 739, 113,\n",
       "         717, 685, 114,  97, 411, 676, 264,  34, 437,   4, 649, 540, 263, 150,\n",
       "         157, 566, 140, 730, 137, 202,  84, 249, 514,  22, 615, 690,   1, 640,\n",
       "         174,  37, 156, 296, 227, 622, 197, 124,  31, 472, 293, 481,  25, 217,\n",
       "         107, 615, 620, 289, 483, 225, 302, 424,  10, 455, 658, 215, 624, 616,\n",
       "         395, 449, 508, 458, 281, 436,  29, 233, 526, 695, 737, 288, 307, 247,\n",
       "         219, 323, 261, 632, 129,  70, 581, 732, 548, 480, 208, 580,  64, 573,\n",
       "         377, 160, 570, 281, 481, 385, 582, 295, 569, 516, 558, 278, 122, 338,\n",
       "         407, 597]])"
      ]
     },
     "execution_count": 49,
     "metadata": {},
     "output_type": "execute_result"
    }
   ],
   "source": [
    "vocab_size = len(nlp.vocab)\n",
    "dummy_input = torch.randint(0, vocab_size, (1, 128))\n",
    "dummy_input"
   ]
  },
  {
   "cell_type": "code",
   "execution_count": 74,
   "id": "2a403f49-653e-4fc1-b109-0a56be024204",
   "metadata": {},
   "outputs": [
    {
     "data": {
      "text/plain": [
       "0"
      ]
     },
     "execution_count": 74,
     "metadata": {},
     "output_type": "execute_result"
    }
   ],
   "source": [
    "dim = nlp.vocab.vectors_length\n",
    "dim"
   ]
  },
  {
   "cell_type": "code",
   "execution_count": null,
   "id": "899d7f57-f1e0-487b-a0c7-c99377de9913",
   "metadata": {},
   "outputs": [],
   "source": []
  }
 ],
 "metadata": {
  "kernelspec": {
   "display_name": "Python 3 (ipykernel)",
   "language": "python",
   "name": "python3"
  },
  "language_info": {
   "codemirror_mode": {
    "name": "ipython",
    "version": 3
   },
   "file_extension": ".py",
   "mimetype": "text/x-python",
   "name": "python",
   "nbconvert_exporter": "python",
   "pygments_lexer": "ipython3",
   "version": "3.9.6"
  }
 },
 "nbformat": 4,
 "nbformat_minor": 5
}
