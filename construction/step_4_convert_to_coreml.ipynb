{
 "cells": [
  {
   "cell_type": "markdown",
   "id": "bc34d188-f177-4f14-905c-b516ef8f08fe",
   "metadata": {},
   "source": [
    "# Convert Spacy Model to CoreML\n",
    "Google Search \"Spacy export model to coreml python\"\n",
    "\n",
    "## References\n",
    "- [CoreML Tools](https://apple.github.io/coremltools/docs-guides/)\n",
    "- [CoreML Tools API](https://apple.github.io/coremltools/index.html)\n",
    "- [Converting Models to Core ML](https://huggingface.co/blog/fguzman82/frompytorch-to-coreml)\n",
    "- [PyTorch to CoreML Conversion](https://coremltools.readme.io/v6.3/docs/pytorch-conversion)"
   ]
  },
  {
   "cell_type": "markdown",
   "id": "90209577-42eb-401d-880c-b131b1745eb9",
   "metadata": {},
   "source": [
    "### Imports"
   ]
  },
  {
   "cell_type": "code",
   "execution_count": null,
   "id": "ad420e2d-048d-414b-9b27-92f85296a958",
   "metadata": {},
   "outputs": [],
   "source": [
    "import spacy\n",
    "import torch\n",
    "import torch.nn as nn"
   ]
  },
  {
   "cell_type": "markdown",
   "id": "7bb0adf6-73fb-4709-ae31-468a58ddc9ec",
   "metadata": {},
   "source": [
    "### Load the spaCy Model"
   ]
  },
  {
   "cell_type": "code",
   "execution_count": null,
   "id": "349552df-4e77-48cb-a9e1-ece151478520",
   "metadata": {},
   "outputs": [],
   "source": [
    "nlp = spacy.load('./training/ner_and_textcat')"
   ]
  },
  {
   "cell_type": "markdown",
   "id": "b084257f-e194-4e12-80f8-95cd6c4ebda1",
   "metadata": {},
   "source": [
    "### Wrap the spaCy model in a PyTorch Model"
   ]
  },
  {
   "cell_type": "code",
   "execution_count": null,
   "id": "5c02e8e7-8852-4b4e-ad02-6cf01806639b",
   "metadata": {},
   "outputs": [],
   "source": [
    "# Extract word vectors\n",
    "word_vectors = torch.FloatTensor(nlp.vocab.vectors.data)\n",
    "\n",
    "# Define a PyTorch model\n",
    "class PyTorchWrapper(nn.Module):\n",
    "    def __init__(self, vocab_size, embedding_dim, pretrained_embeddings):\n",
    "        super(PyTorchWrapper, self).__init__()\n",
    "        self.embedding = nn.Embedding(vocab_size, embedding_dim).from_pretrained(pretrained_embeddings)\n",
    "        # Add other layers as needed, e.g., LSTM, Linear, etc.\n",
    "        \n",
    "    def forward(self, x):\n",
    "        embedded = self.embedding(x)\n",
    "        # Pass through other layers\n",
    "        return embedded\n",
    "    \n",
    "# Instantiate the model\n",
    "vocab_size, embedding_dim = word_vectors.shape\n",
    "model = PyTorchWrapper(vocab_size, embedding_dim, word_vectors)\n",
    "model"
   ]
  },
  {
   "cell_type": "markdown",
   "id": "c8972379-70dd-44e8-baf4-7e7132edd5eb",
   "metadata": {},
   "source": [
    "### Script the Model"
   ]
  },
  {
   "cell_type": "code",
   "execution_count": null,
   "id": "09b44f88-4114-400f-86d6-7a8cfae79c02",
   "metadata": {},
   "outputs": [],
   "source": [
    "from coreml import (\n",
    "    script_model,\n",
    "    convert_to_coreml\n",
    ")\n",
    "scripted = script_model(model)\n",
    "scripted"
   ]
  },
  {
   "cell_type": "markdown",
   "id": "11eaaeff-7bb4-4ef3-a693-cbd6a3a76751",
   "metadata": {},
   "source": [
    "### Convert the scripted model to CoreML"
   ]
  },
  {
   "cell_type": "code",
   "execution_count": null,
   "id": "8ef8376b-5cd7-4b64-ab74-91114f1330b1",
   "metadata": {},
   "outputs": [],
   "source": [
    "coreml_model = convert_to_coreml(scripted, (1, 1))\n",
    "coreml_model"
   ]
  },
  {
   "cell_type": "markdown",
   "id": "4209a002-88a8-4271-8612-c142d7ed9f3a",
   "metadata": {},
   "source": [
    "### Save the model"
   ]
  },
  {
   "cell_type": "code",
   "execution_count": null,
   "id": "90911456-f136-4cc9-9480-ee6fcc51bb70",
   "metadata": {},
   "outputs": [],
   "source": [
    "coreml_model.save(\"construction.mlpackage\")"
   ]
  },
  {
   "cell_type": "code",
   "execution_count": null,
   "id": "0e36ac0b-b971-4425-92c8-99b130ef14b0",
   "metadata": {},
   "outputs": [],
   "source": []
  }
 ],
 "metadata": {
  "kernelspec": {
   "display_name": "Python 3 (ipykernel)",
   "language": "python",
   "name": "python3"
  },
  "language_info": {
   "codemirror_mode": {
    "name": "ipython",
    "version": 3
   },
   "file_extension": ".py",
   "mimetype": "text/x-python",
   "name": "python",
   "nbconvert_exporter": "python",
   "pygments_lexer": "ipython3",
   "version": "3.9.6"
  }
 },
 "nbformat": 4,
 "nbformat_minor": 5
}
