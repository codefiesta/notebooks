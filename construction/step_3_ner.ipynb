{
 "cells": [
  {
   "cell_type": "markdown",
   "id": "bc34d188-f177-4f14-905c-b516ef8f08fe",
   "metadata": {},
   "source": [
    "# Named Entity Recognition\n",
    "An ML notebook for training a model for NER.\n",
    "\n",
    "## Tagging Schemes\n",
    "The `BILUO` (Beginning, Inside, Last, Unit) tagging scheme and the `IOB` (Inside, Outside, Beginning) tags are both provided in the tagged dataset. The schemes differ in how they tag multi-word entities. `BILUO` provides more explicit information about the boundaries of entities, potentially leading to better performance in some cases, while `IOB` is simpler and can be easier to implement.\n",
    "\n",
    "### IOB Scheme\n",
    "- `I` – Token is inside an entity.\n",
    "- `O` – Token is outside an entity.\n",
    "- `B` – Token is the beginning of an entity.\n",
    "\n",
    "### BILUO Scheme\n",
    "- `B` – Token is the beginning of a multi-token entity.\n",
    "- `I` – Token is inside a multi-token entity.\n",
    "- `L` – Token is the last token of a multi-token entity.\n",
    "- `U` – Token is a single-token unit entity.\n",
    "- `O` – Token is outside an entity."
   ]
  },
  {
   "cell_type": "markdown",
   "id": "90209577-42eb-401d-880c-b131b1745eb9",
   "metadata": {},
   "source": [
    "### Imports"
   ]
  },
  {
   "cell_type": "code",
   "execution_count": null,
   "id": "ad420e2d-048d-414b-9b27-92f85296a958",
   "metadata": {},
   "outputs": [],
   "source": [
    "import logging\n",
    "import spacy\n",
    "from spacy import displacy\n",
    "from spacy.training import (\n",
    "    offsets_to_biluo_tags,\n",
    "    biluo_to_iob\n",
    ")\n",
    "from utilities import safe_make_dir\n",
    "\n",
    "# Force spaCy to run on the GPU\n",
    "spacy.require_gpu()\n",
    "\n",
    "# Load the Natural Language Pipeline\n",
    "nlp = spacy.load(\"en_core_web_trf\")"
   ]
  },
  {
   "cell_type": "markdown",
   "id": "7bb0adf6-73fb-4709-ae31-468a58ddc9ec",
   "metadata": {},
   "source": [
    "### Simple Example"
   ]
  },
  {
   "cell_type": "code",
   "execution_count": null,
   "id": "349552df-4e77-48cb-a9e1-ece151478520",
   "metadata": {},
   "outputs": [],
   "source": [
    "text = \"What amazing device did Steve Jobs create at Apple in 2007?\" \n",
    "doc = nlp(text)\n",
    "displacy.render(doc, style=\"ent\", jupyter=True)"
   ]
  },
  {
   "cell_type": "markdown",
   "id": "31957ced-6f1f-428e-a04a-8eb573cee7f7",
   "metadata": {},
   "source": [
    "### Complex Example"
   ]
  },
  {
   "cell_type": "code",
   "execution_count": null,
   "id": "705f5113-b6b7-4ace-9cdc-d6706761c35d",
   "metadata": {},
   "outputs": [],
   "source": [
    "text = \"Show all Single Pole Light Switches that Homer J. Simpson installed on Level 1 at Apple between April and June of 2024.\"\n",
    "doc = nlp(text)\n",
    "displacy.render(doc, style=\"ent\", jupyter=True)"
   ]
  },
  {
   "cell_type": "markdown",
   "id": "94acafbf-5bf5-441c-bafc-97f8e2b37f6d",
   "metadata": {},
   "source": [
    "### Apply Rule based entity recognition with named entity patterns\n",
    "See [Spacy Documentation](https://spacy.io/usage/rule-based-matching#entityruler) for details on how to apply rules with patterns.\n",
    "\n",
    "**NOTE**: If you haven't yet, you should generate the patterns via the `named_entity_patterns` notebook."
   ]
  },
  {
   "cell_type": "code",
   "execution_count": null,
   "id": "33b9f8af-e937-4f8b-b825-1ccd3e879bf3",
   "metadata": {},
   "outputs": [],
   "source": [
    "if nlp.has_pipe(\"entity_ruler\") == False:\n",
    "    config = {\"overwrite_ents\": True}\n",
    "    ruler = nlp.add_pipe(\"entity_ruler\", config=config).from_disk(\"./data/patterns.jsonl\")\n",
    "    print(\"✅ Added custom patterns:\", len(ruler.patterns))"
   ]
  },
  {
   "cell_type": "markdown",
   "id": "b084257f-e194-4e12-80f8-95cd6c4ebda1",
   "metadata": {},
   "source": [
    "### Visualize our new named entity patterns"
   ]
  },
  {
   "cell_type": "code",
   "execution_count": null,
   "id": "63848ae7-1224-41d2-9aa7-18e902b37d09",
   "metadata": {},
   "outputs": [],
   "source": [
    "text = \"Show me all single pole light switches and all other electrical equipment that James Bond installed in the kitchen area on Level 1 from May to June.\"\n",
    "doc = nlp(text)\n",
    "displacy.render(doc, style=\"ent\", jupyter=True)"
   ]
  },
  {
   "cell_type": "markdown",
   "id": "d3393f61-10a9-4fff-b6d2-0d1e78b1a97e",
   "metadata": {},
   "source": [
    "### Merge the Text Categorization Model with NER"
   ]
  },
  {
   "cell_type": "code",
   "execution_count": null,
   "id": "c80f4c14-2b54-42a5-960d-00a0199d907e",
   "metadata": {},
   "outputs": [],
   "source": [
    "# Merge in the trained text cat model with our current pipeline\n",
    "textcat = spacy.load('./training/textcat_model/model-best')\n",
    "nlp.add_pipe('textcat', source=textcat)"
   ]
  },
  {
   "cell_type": "markdown",
   "id": "5ce362e7-ac96-46ba-83f5-abb6580f5da1",
   "metadata": {},
   "source": [
    "### Test Merged Pipelines"
   ]
  },
  {
   "cell_type": "code",
   "execution_count": null,
   "id": "d98fb5e7-d023-4e57-8086-69aeaf2b34ec",
   "metadata": {},
   "outputs": [],
   "source": [
    "text = \"Hide all single pole light switches.\"\n",
    "doc = nlp(text)\n",
    "displacy.render(doc, style=\"ent\", jupyter=True)\n",
    "print(doc.cats)"
   ]
  },
  {
   "cell_type": "markdown",
   "id": "737e3af9-e74e-4339-8035-3e51ed69452e",
   "metadata": {},
   "source": [
    "### Save the model to disk"
   ]
  },
  {
   "cell_type": "code",
   "execution_count": null,
   "id": "3f5bb109-8138-4f9b-843c-9b0b8b10e300",
   "metadata": {},
   "outputs": [],
   "source": [
    "# Save the model to disk\n",
    "safe_make_dir('./training')\n",
    "nlp.to_disk('./training/ner_and_textcat')"
   ]
  },
  {
   "cell_type": "code",
   "execution_count": null,
   "id": "6523b63d-f51f-46dd-b31c-470ca50df99a",
   "metadata": {},
   "outputs": [],
   "source": []
  }
 ],
 "metadata": {
  "kernelspec": {
   "display_name": "Python 3 (ipykernel)",
   "language": "python",
   "name": "python3"
  },
  "language_info": {
   "codemirror_mode": {
    "name": "ipython",
    "version": 3
   },
   "file_extension": ".py",
   "mimetype": "text/x-python",
   "name": "python",
   "nbconvert_exporter": "python",
   "pygments_lexer": "ipython3",
   "version": "3.9.6"
  }
 },
 "nbformat": 4,
 "nbformat_minor": 5
}
