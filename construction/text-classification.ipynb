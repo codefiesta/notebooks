{
 "cells": [
  {
   "cell_type": "markdown",
   "id": "bc34d188-f177-4f14-905c-b516ef8f08fe",
   "metadata": {},
   "source": [
    "# Text Classification\n",
    "An ML notebook for training a model for text classification."
   ]
  },
  {
   "cell_type": "markdown",
   "id": "90209577-42eb-401d-880c-b131b1745eb9",
   "metadata": {},
   "source": [
    "### Imports"
   ]
  },
  {
   "cell_type": "code",
   "execution_count": null,
   "id": "ad420e2d-048d-414b-9b27-92f85296a958",
   "metadata": {},
   "outputs": [],
   "source": [
    "import random\n",
    "import spacy\n",
    "from spacy import displacy\n",
    "from spacy.tokens import DocBin\n",
    "from spacy.training import (\n",
    "    offsets_to_biluo_tags,\n",
    "    biluo_to_iob\n",
    ")\n",
    "from utilities import (\n",
    "    jsonl_to_list,\n",
    "    split_train_val_test\n",
    ")\n",
    "\n",
    "# Force spaCy to run on the GPU\n",
    "spacy.require_gpu()\n",
    "\n",
    "# Load the Natural Language Pipeline\n",
    "# nlp = spacy.load('en_core_web_trf')"
   ]
  },
  {
   "cell_type": "markdown",
   "id": "7bb0adf6-73fb-4709-ae31-468a58ddc9ec",
   "metadata": {},
   "source": [
    "### Load the Training Data & Split\n",
    "You can generate a fresh training dataset with the `training_data.ipynb` notebook."
   ]
  },
  {
   "cell_type": "code",
   "execution_count": null,
   "id": "349552df-4e77-48cb-a9e1-ece151478520",
   "metadata": {},
   "outputs": [],
   "source": [
    "# Load the data\n",
    "data = jsonl_to_list('./data/training.jsonl')\n",
    "# Randomly shuffle the data\n",
    "random.shuffle(data)\n",
    "\n",
    "# Split the data into training, dev, and test sets\n",
    "train, dev, test = split_train_val_test(data)"
   ]
  },
  {
   "cell_type": "markdown",
   "id": "8e2ae85a-b41a-4537-bb3b-31904acafb34",
   "metadata": {},
   "source": [
    "### Convert the datasets into DocBins\n",
    "Spacy cannot directly read the raw data in this format, and so we have to convert to a binary format that Spacy can work with, using the DocBin structure:"
   ]
  },
  {
   "cell_type": "code",
   "execution_count": null,
   "id": "72e2c41f-b53c-4ef2-b334-7b56781bdeb1",
   "metadata": {},
   "outputs": [],
   "source": [
    "# Safe make the training directory\n",
    "safe_make_dir('./training')\n",
    "\n",
    "# Load the categories\n",
    "categories = jsonl_to_list('./data/text_categories.jsonl')\n",
    "categories = list(map(lambda x: x['label'], categories))\n",
    "\n",
    "def convert(data, outfile):\n",
    "    nlp = spacy.blank('en')\n",
    "    db = DocBin()\n",
    "    for item in data:\n",
    "        doc = nlp.make_doc(item['text'])\n",
    "        doc.cats = {category: 0 for category in categories}\n",
    "        doc.cats[item['label']] = 1\n",
    "        db.add(doc)\n",
    "    db.to_disk(outfile)\n",
    "\n",
    "convert(train, './training/train.spacy')\n",
    "convert(dev, './training/dev.spacy')\n",
    "convert(test, './training/test.spacy')"
   ]
  },
  {
   "cell_type": "code",
   "execution_count": null,
   "id": "c4588f83-0f5b-46f8-961e-cbeef9b25cc8",
   "metadata": {},
   "outputs": [],
   "source": [
    "nlp = spacy.load('./training/textcat_model/model-best')"
   ]
  },
  {
   "cell_type": "code",
   "execution_count": null,
   "id": "2bafd8ae-35d8-45e4-8838-d2679d256503",
   "metadata": {},
   "outputs": [],
   "source": [
    "text = \"Show me all single pole light switches and all other electrical equipment that James Bond installed in the kitchen area on Level 1 from May to June.\"\n",
    "doc = nlp(text)\n",
    "print(doc.cats)"
   ]
  },
  {
   "cell_type": "code",
   "execution_count": null,
   "id": "e68423ae-a195-4906-8126-824c3e8f9238",
   "metadata": {},
   "outputs": [],
   "source": [
    "text = \"Hide the electrical equipment.\"\n",
    "doc = nlp(text)\n",
    "print(doc.cats)"
   ]
  },
  {
   "cell_type": "code",
   "execution_count": null,
   "id": "af5898db-3bde-41ce-b6ad-83a7a81c7d65",
   "metadata": {},
   "outputs": [],
   "source": []
  }
 ],
 "metadata": {
  "kernelspec": {
   "display_name": "Python 3 (ipykernel)",
   "language": "python",
   "name": "python3"
  },
  "language_info": {
   "codemirror_mode": {
    "name": "ipython",
    "version": 3
   },
   "file_extension": ".py",
   "mimetype": "text/x-python",
   "name": "python",
   "nbconvert_exporter": "python",
   "pygments_lexer": "ipython3",
   "version": "3.9.6"
  }
 },
 "nbformat": 4,
 "nbformat_minor": 5
}
