{
 "cells": [
  {
   "cell_type": "markdown",
   "id": "bc34d188-f177-4f14-905c-b516ef8f08fe",
   "metadata": {},
   "source": [
    "# Text Classification\n",
    "An ML notebook for training a model for text classification."
   ]
  },
  {
   "cell_type": "markdown",
   "id": "90209577-42eb-401d-880c-b131b1745eb9",
   "metadata": {},
   "source": [
    "### Imports"
   ]
  },
  {
   "cell_type": "code",
   "execution_count": 11,
   "id": "ad420e2d-048d-414b-9b27-92f85296a958",
   "metadata": {},
   "outputs": [
    {
     "data": {
      "text/plain": [
       "True"
      ]
     },
     "execution_count": 11,
     "metadata": {},
     "output_type": "execute_result"
    }
   ],
   "source": [
    "import random\n",
    "import spacy\n",
    "from spacy import displacy\n",
    "from spacy.tokens import DocBin\n",
    "from spacy.training import (\n",
    "    offsets_to_biluo_tags,\n",
    "    biluo_to_iob\n",
    ")\n",
    "from utilities import (\n",
    "    jsonl_to_list,\n",
    "    safe_make_dir,\n",
    "    split_train_val_test\n",
    ")\n",
    "\n",
    "# Force spaCy to run on the GPU\n",
    "spacy.require_gpu()"
   ]
  },
  {
   "cell_type": "markdown",
   "id": "7bb0adf6-73fb-4709-ae31-468a58ddc9ec",
   "metadata": {},
   "source": [
    "### Load the Training Data & Split\n",
    "You can generate a fresh training dataset with the `step_1_generate_training_data.ipynb` notebook."
   ]
  },
  {
   "cell_type": "code",
   "execution_count": 12,
   "id": "349552df-4e77-48cb-a9e1-ece151478520",
   "metadata": {},
   "outputs": [],
   "source": [
    "# Load the data\n",
    "data = jsonl_to_list('./data/training.jsonl')\n",
    "# Randomly shuffle the data\n",
    "random.shuffle(data)\n",
    "\n",
    "# Split the data into training, dev, and test sets\n",
    "train, dev, test = split_train_val_test(data)"
   ]
  },
  {
   "cell_type": "markdown",
   "id": "8e2ae85a-b41a-4537-bb3b-31904acafb34",
   "metadata": {},
   "source": [
    "### Convert the datasets into DocBins\n",
    "Spacy cannot directly read the raw data in this format, and so we have to convert to a binary format that Spacy can work with, using the DocBin structure:"
   ]
  },
  {
   "cell_type": "code",
   "execution_count": 13,
   "id": "72e2c41f-b53c-4ef2-b334-7b56781bdeb1",
   "metadata": {},
   "outputs": [
    {
     "name": "stdout",
     "output_type": "stream",
     "text": [
      "Ignoring: Directory ./training already exists\n"
     ]
    }
   ],
   "source": [
    "# Safe make the training directory\n",
    "safe_make_dir('./training')\n",
    "\n",
    "# Load the categories\n",
    "categories = jsonl_to_list('./data/text_categories.jsonl')\n",
    "categories = list(map(lambda x: x['label'], categories))\n",
    "\n",
    "def convert(data, outfile):\n",
    "    nlp = spacy.blank('en')\n",
    "    db = DocBin()\n",
    "    for item in data:\n",
    "        doc = nlp.make_doc(item['text'])\n",
    "        doc.cats = {category: 0 for category in categories}\n",
    "        doc.cats[item['label']] = 1\n",
    "        db.add(doc)\n",
    "    db.to_disk(outfile)\n",
    "\n",
    "convert(train, './training/train.spacy')\n",
    "convert(dev, './training/dev.spacy')\n",
    "convert(test, './training/test.spacy')"
   ]
  },
  {
   "cell_type": "markdown",
   "id": "04dd3cec-cf5e-47db-af7d-4cb756ba6229",
   "metadata": {},
   "source": [
    "### Generate Config File for Model Training"
   ]
  },
  {
   "cell_type": "code",
   "execution_count": 14,
   "id": "18e2c5af-f452-426a-8078-d3d1aafe3c1e",
   "metadata": {},
   "outputs": [
    {
     "name": "stdout",
     "output_type": "stream",
     "text": [
      "\u001b[38;5;3m⚠ To generate a more effective transformer-based config (GPU-only),\n",
      "install the spacy-transformers package and re-run this command. The config\n",
      "generated now does not use transformers.\u001b[0m\n",
      "\u001b[38;5;4mℹ Generated config template specific for your use case\u001b[0m\n",
      "- Language: en\n",
      "- Pipeline: textcat\n",
      "- Optimize for: efficiency\n",
      "- Hardware: CPU\n",
      "- Transformer: None\n",
      "\u001b[38;5;2m✔ Auto-filled config with all values\u001b[0m\n",
      "\u001b[38;5;2m✔ Saved config\u001b[0m\n",
      "training/config.cfg\n",
      "You can now add your data and train your pipeline:\n",
      "python -m spacy train config.cfg --paths.train ./train.spacy --paths.dev ./dev.spacy\n"
     ]
    }
   ],
   "source": [
    "%run -m spacy init config --pipeline textcat ./training/config.cfg"
   ]
  },
  {
   "cell_type": "markdown",
   "id": "52443e3a-7db7-477e-8ad1-be761471d298",
   "metadata": {},
   "source": [
    "### Train the Model"
   ]
  },
  {
   "cell_type": "code",
   "execution_count": 15,
   "id": "8c25d77a-026a-48d5-b580-82ca2f862218",
   "metadata": {},
   "outputs": [
    {
     "name": "stdout",
     "output_type": "stream",
     "text": [
      "\u001b[38;5;2m✔ Created output directory: training/textcat_model\u001b[0m\n",
      "\u001b[38;5;4mℹ Saving to output directory: training/textcat_model\u001b[0m\n",
      "\u001b[38;5;4mℹ Using CPU\u001b[0m\n",
      "\u001b[38;5;4mℹ To switch to GPU 0, use the option: --gpu-id 0\u001b[0m\n",
      "\u001b[1m\n",
      "=========================== Initializing pipeline ===========================\u001b[0m\n",
      "\u001b[38;5;2m✔ Initialized pipeline\u001b[0m\n",
      "\u001b[1m\n",
      "============================= Training pipeline =============================\u001b[0m\n",
      "\u001b[38;5;4mℹ Pipeline: ['textcat']\u001b[0m\n",
      "\u001b[38;5;4mℹ Initial learn rate: 0.001\u001b[0m\n",
      "E    #       LOSS TEXTCAT  CATS_SCORE  SCORE \n",
      "---  ------  ------------  ----------  ------\n",
      "  0       0          0.07       51.85    0.52\n",
      "  0     200         12.55       99.75    1.00\n",
      "  1     400          8.54      100.00    1.00\n",
      "  1     600          4.61      100.00    1.00\n",
      "  2     800          1.94      100.00    1.00\n",
      "  3    1000          0.69      100.00    1.00\n",
      "  5    1200          0.26      100.00    1.00\n",
      "  6    1400          0.14      100.00    1.00\n",
      "  8    1600          0.08      100.00    1.00\n",
      " 11    1800          0.05      100.00    1.00\n",
      " 14    2000          0.04      100.00    1.00\n",
      "\u001b[38;5;2m✔ Saved pipeline to output directory\u001b[0m\n",
      "training/textcat_model/model-last\n"
     ]
    }
   ],
   "source": [
    "%run -m spacy train ./training/config.cfg --paths.train ./training/train.spacy  --paths.dev ./training/dev.spacy --output ./training/textcat_model"
   ]
  },
  {
   "cell_type": "markdown",
   "id": "ced57e2d-9354-4aff-a226-ca49bd780188",
   "metadata": {},
   "source": [
    "### Model Evaluation"
   ]
  },
  {
   "cell_type": "code",
   "execution_count": 16,
   "id": "1d6a634f-7fbc-4ec1-9a31-562715ffdaa2",
   "metadata": {},
   "outputs": [
    {
     "name": "stdout",
     "output_type": "stream",
     "text": [
      "\u001b[38;5;4mℹ Using CPU\u001b[0m\n",
      "\u001b[38;5;4mℹ To switch to GPU 0, use the option: --gpu-id 0\u001b[0m\n",
      "\u001b[1m\n",
      "================================== Results ==================================\u001b[0m\n",
      "\n",
      "TOK                 100.00\n",
      "TEXTCAT (macro F)   100.00\n",
      "SPEED               158893\n",
      "\n",
      "\u001b[1m\n",
      "=========================== Textcat F (per label) ===========================\u001b[0m\n",
      "\n",
      "                  P        R        F\n",
      "ISOLATE      100.00   100.00   100.00\n",
      "HIDE         100.00   100.00   100.00\n",
      "QUANTIFY     100.00   100.00   100.00\n",
      "ZOOM_IN      100.00   100.00   100.00\n",
      "PAN_RIGHT    100.00   100.00   100.00\n",
      "PAN_LEFT     100.00   100.00   100.00\n",
      "LOOK_LEFT    100.00   100.00   100.00\n",
      "PAN_UP       100.00   100.00   100.00\n",
      "PAN_DOWN     100.00   100.00   100.00\n",
      "LOOK_DOWN    100.00   100.00   100.00\n",
      "ZOOM_OUT     100.00   100.00   100.00\n",
      "LOOK_UP      100.00   100.00   100.00\n",
      "LOOK_RIGHT   100.00   100.00   100.00\n",
      "\n",
      "\u001b[1m\n",
      "======================== Textcat ROC AUC (per label) ========================\u001b[0m\n",
      "\n",
      "             ROC AUC\n",
      "ISOLATE         1.00\n",
      "HIDE            1.00\n",
      "QUANTIFY        1.00\n",
      "ZOOM_IN         1.00\n",
      "PAN_RIGHT       1.00\n",
      "PAN_LEFT        1.00\n",
      "LOOK_LEFT       1.00\n",
      "PAN_UP          1.00\n",
      "PAN_DOWN        1.00\n",
      "LOOK_DOWN       1.00\n",
      "ZOOM_OUT        1.00\n",
      "LOOK_UP         1.00\n",
      "LOOK_RIGHT      1.00\n",
      "\n",
      "\u001b[38;5;2m✔ Saved results to training/metrics.json\u001b[0m\n"
     ]
    }
   ],
   "source": [
    "%run -m spacy evaluate ./training/textcat_model/model-best/ --output ./training/metrics.json ./training/test.spacy"
   ]
  },
  {
   "cell_type": "markdown",
   "id": "6d63ff49-cb6c-4c6f-b8fd-033fe11e3010",
   "metadata": {},
   "source": [
    "### Load the Model"
   ]
  },
  {
   "cell_type": "code",
   "execution_count": 17,
   "id": "c4588f83-0f5b-46f8-961e-cbeef9b25cc8",
   "metadata": {},
   "outputs": [],
   "source": [
    "nlp = spacy.load('./training/textcat_model/model-best')"
   ]
  },
  {
   "cell_type": "code",
   "execution_count": null,
   "id": "2bafd8ae-35d8-45e4-8838-d2679d256503",
   "metadata": {},
   "outputs": [],
   "source": [
    "text = \"Show me all single pole light switches and all other electrical equipment that James Bond installed in the kitchen area on Level 1 from May to June.\"\n",
    "doc = nlp(text)\n",
    "print(doc.cats)"
   ]
  },
  {
   "cell_type": "code",
   "execution_count": null,
   "id": "e68423ae-a195-4906-8126-824c3e8f9238",
   "metadata": {},
   "outputs": [],
   "source": [
    "text = \"Hide the electrical equipment.\"\n",
    "doc = nlp(text)\n",
    "print(doc.cats)"
   ]
  },
  {
   "cell_type": "code",
   "execution_count": null,
   "id": "af5898db-3bde-41ce-b6ad-83a7a81c7d65",
   "metadata": {},
   "outputs": [],
   "source": []
  }
 ],
 "metadata": {
  "kernelspec": {
   "display_name": "Python 3 (ipykernel)",
   "language": "python",
   "name": "python3"
  },
  "language_info": {
   "codemirror_mode": {
    "name": "ipython",
    "version": 3
   },
   "file_extension": ".py",
   "mimetype": "text/x-python",
   "name": "python",
   "nbconvert_exporter": "python",
   "pygments_lexer": "ipython3",
   "version": "3.9.6"
  }
 },
 "nbformat": 4,
 "nbformat_minor": 5
}
